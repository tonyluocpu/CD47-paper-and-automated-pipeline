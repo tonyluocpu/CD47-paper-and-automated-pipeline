{
 "cells": [
  {
   "cell_type": "code",
   "execution_count": 7,
   "id": "cd5fb09d",
   "metadata": {},
   "outputs": [],
   "source": [
    "import pandas as pd\n",
    "data_less_null = pd.read_csv('compounds_with_safety_processed.csv')"
   ]
  },
  {
   "cell_type": "code",
   "execution_count": null,
   "id": "476333a1",
   "metadata": {},
   "outputs": [],
   "source": [
    "compound_list = [\n",
    "    \"andarine\", \"AZD2461\", \"BMS-906024\", \"candesartan\", \"CPI-0610\", \"cycloheximide\",\n",
    "    \"dienogest\", \"epinastine\", \"evodiamine\", \"hypericin\", \"I-BRD9\", \"ilaprazole\",\n",
    "    \"indiplon\", \"INT-767\", \"ITX3\", \"K-strophanthidin\", \"L-701324\", \"LY2183240\",\n",
    "    \"MK-1064\", \"monensin\", \"narasin\", \"navarixin\", \"obeticholic-acid\",\n",
    "    \"olmesartan-medoxomil\", \"palmatine-chloride\", \"perfluorodecalin\",\n",
    "    \"PF-04217903\", \"PF-477736\", \"PIK-293\", \"resmetirom\", \"RU-28318\",\n",
    "    \"sanguinarium-chloride\", \"SCH-58261\", \"SP-100030\", \"SPP86\", \"sulfinpyrazone\",\n",
    "    \"sulindac\", \"TAK-063\", \"TC-S-7009\", \"TEPP-46\", \"tivantinib\"\n",
    "]\n",
    "\n",
    "data_less_null['high_potential'] = data_less_null['compound_name'].isin(compound_list).astype(int)"
   ]
  }
 ],
 "metadata": {
  "kernelspec": {
   "display_name": "Python 3",
   "language": "python",
   "name": "python3"
  },
  "language_info": {
   "codemirror_mode": {
    "name": "ipython",
    "version": 3
   },
   "file_extension": ".py",
   "mimetype": "text/x-python",
   "name": "python",
   "nbconvert_exporter": "python",
   "pygments_lexer": "ipython3",
   "version": "3.11.9"
  }
 },
 "nbformat": 4,
 "nbformat_minor": 5
}
