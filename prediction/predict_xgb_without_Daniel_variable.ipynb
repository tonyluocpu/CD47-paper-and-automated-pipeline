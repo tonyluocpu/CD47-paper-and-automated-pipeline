{
 "cells": [
  {
   "cell_type": "code",
   "execution_count": 7,
   "id": "4a133838",
   "metadata": {},
   "outputs": [],
   "source": [
    "import polars as pl\n",
    "import os"
   ]
  },
  {
   "cell_type": "code",
   "execution_count": 12,
   "id": "9af459ad",
   "metadata": {},
   "outputs": [],
   "source": [
    "data = pl.read_csv('../datasets/compounds_with_safety_processed.csv')"
   ]
  },
  {
   "cell_type": "code",
   "execution_count": 13,
   "id": "5785371b",
   "metadata": {},
   "outputs": [
    {
     "data": {
      "text/plain": [
       "['compound_name',\n",
       " 'clinical_phase',\n",
       " 'mechanism_of_action',\n",
       " 'cf_max_score',\n",
       " 'cf_avg_score',\n",
       " 'cf_top_pose',\n",
       " 'docking_max_score',\n",
       " 'docking_avg_score',\n",
       " 'docking_top_pose',\n",
       " 'safety_Aurora kinase A',\n",
       " 'safety_Bile Salt Export Pump model 2',\n",
       " 'safety_Caspase 3',\n",
       " 'safety_Cathepsin L1',\n",
       " 'safety_hERG_pIC50',\n",
       " 'safety_KCNA5',\n",
       " 'safety_Muscarinic acetylcholine receptor M1',\n",
       " 'safety_Muscarinic acetylcholine receptor M3',\n",
       " 'hERG_pIC50',\n",
       " 'KCNA5',\n",
       " 'pk_Human microsomal clearance model 2',\n",
       " 'chem_a_acc',\n",
       " 'chem_a_don',\n",
       " 'chem_chi0',\n",
       " 'chem_chi1',\n",
       " 'chem_chi0_c',\n",
       " 'chem_chi1_c',\n",
       " 'chem_kier1',\n",
       " 'chem_lip_acc',\n",
       " 'chem_npr1',\n",
       " 'chem_peoe_pcplus',\n",
       " 'chem_peoe_vsaplus0',\n",
       " 'chem_peoe_vsaplus2',\n",
       " 'chem_peoe_vsaplus4',\n",
       " 'chem_peoe_vsaplus6',\n",
       " 'chem_peoe_vsaminus1',\n",
       " 'chem_peoe_vsaminus3',\n",
       " 'chem_peoe_vsaminus5',\n",
       " 'chem_pmi',\n",
       " 'chem_pmi2',\n",
       " 'chem_pmix',\n",
       " 'chem_pmiz',\n",
       " 'chem_slogp',\n",
       " 'chem_slogp_vsa1',\n",
       " 'chem_slogp_vsa3',\n",
       " 'chem_slogp_vsa5',\n",
       " 'chem_slogp_vsa7',\n",
       " 'chem_slogp_vsa9',\n",
       " 'chem_smr_vsa0',\n",
       " 'chem_smr_vsa2',\n",
       " 'chem_smr_vsa4',\n",
       " 'chem_smr_vsa6',\n",
       " 'chem_tpsa',\n",
       " 'cv_safety_score',\n",
       " 'high_potential']"
      ]
     },
     "execution_count": 13,
     "metadata": {},
     "output_type": "execute_result"
    }
   ],
   "source": [
    "data.columns"
   ]
  },
  {
   "cell_type": "code",
   "execution_count": null,
   "id": "8deedea0",
   "metadata": {},
   "outputs": [],
   "source": []
  }
 ],
 "metadata": {
  "kernelspec": {
   "display_name": "Python 3",
   "language": "python",
   "name": "python3"
  },
  "language_info": {
   "codemirror_mode": {
    "name": "ipython",
    "version": 3
   },
   "file_extension": ".py",
   "mimetype": "text/x-python",
   "name": "python",
   "nbconvert_exporter": "python",
   "pygments_lexer": "ipython3",
   "version": "3.11.9"
  }
 },
 "nbformat": 4,
 "nbformat_minor": 5
}
