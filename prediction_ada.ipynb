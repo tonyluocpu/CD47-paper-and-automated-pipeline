{
 "cells": [
  {
   "cell_type": "code",
   "execution_count": 2,
   "id": "3a269ea0",
   "metadata": {},
   "outputs": [],
   "source": [
    "import pandas as pd "
   ]
  },
  {
   "cell_type": "code",
   "execution_count": 3,
   "id": "5b0f642f",
   "metadata": {},
   "outputs": [],
   "source": [
    "data = pd.read_csv('compounds_with_safety.csv')"
   ]
  },
  {
   "cell_type": "code",
   "execution_count": 1,
   "id": "6cdc5bae",
   "metadata": {},
   "outputs": [
    {
     "name": "stdout",
     "output_type": "stream",
     "text": [
      "\n",
      "3. XGBoost GPU Capability:\n",
      "  XGBoost: GPU capability detected (device='cuda' works).\n"
     ]
    }
   ],
   "source": [
    "import xgboost as xgb\n",
    "# ... (other imports from the GPU detection script)\n",
    "\n",
    "print(\"\\n3. XGBoost GPU Capability:\")\n",
    "try:\n",
    "    test_xgb = xgb.XGBClassifier(tree_method='hist', device='cuda', n_estimators=1, random_state=42)\n",
    "    print(\"  XGBoost: GPU capability detected (device='cuda' works).\")\n",
    "except Exception as e:\n",
    "    print(f\"  XGBoost: GPU capability NOT detected. Error: {e}\")\n",
    "    print(\"  Ensure you installed the GPU version of XGBoost and CUDA is set up.\")"
   ]
  },
  {
   "cell_type": "code",
   "execution_count": null,
   "id": "f7b316c3",
   "metadata": {},
   "outputs": [],
   "source": []
  }
 ],
 "metadata": {
  "kernelspec": {
   "display_name": "Python 3",
   "language": "python",
   "name": "python3"
  },
  "language_info": {
   "codemirror_mode": {
    "name": "ipython",
    "version": 3
   },
   "file_extension": ".py",
   "mimetype": "text/x-python",
   "name": "python",
   "nbconvert_exporter": "python",
   "pygments_lexer": "ipython3",
   "version": "3.11.9"
  }
 },
 "nbformat": 4,
 "nbformat_minor": 5
}
