{
 "cells": [
  {
   "cell_type": "code",
   "execution_count": 2,
   "id": "3a269ea0",
   "metadata": {},
   "outputs": [],
   "source": [
    "import pandas as pd "
   ]
  },
  {
   "cell_type": "code",
   "execution_count": 3,
   "id": "5b0f642f",
   "metadata": {},
   "outputs": [],
   "source": [
    "data = pd.read_csv('compounds_with_safety.csv')"
   ]
  },
  {
   "cell_type": "code",
   "execution_count": null,
   "id": "6cdc5bae",
   "metadata": {},
   "outputs": [],
   "source": []
  }
 ],
 "metadata": {
  "kernelspec": {
   "display_name": "base",
   "language": "python",
   "name": "python3"
  },
  "language_info": {
   "codemirror_mode": {
    "name": "ipython",
    "version": 3
   },
   "file_extension": ".py",
   "mimetype": "text/x-python",
   "name": "python",
   "nbconvert_exporter": "python",
   "pygments_lexer": "ipython3",
   "version": "3.11.12"
  }
 },
 "nbformat": 4,
 "nbformat_minor": 5
}
